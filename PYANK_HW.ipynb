{
 "cells": [
  {
   "cell_type": "code",
   "execution_count": 18,
   "metadata": {},
   "outputs": [],
   "source": [
    "import csv\n",
    "from pathlib import Path"
   ]
  },
  {
   "cell_type": "code",
   "execution_count": 35,
   "metadata": {},
   "outputs": [],
   "source": [
    "budget_data = Path(\"PyBank/Resources/budget_data.csv\")"
   ]
  },
  {
   "cell_type": "code",
   "execution_count": 36,
   "metadata": {},
   "outputs": [],
   "source": [
    "total_months = 0\n",
    "month_of_change = []\n",
    "net_change_list = []\n",
    "greatest_increase = [\"\", 0]\n",
    "greatest_decrease = [\"\", 9999999999999999999]\n",
    "total_net = 0"
   ]
  },
  {
   "cell_type": "code",
   "execution_count": 72,
   "metadata": {},
   "outputs": [],
   "source": [
    "with open(budget_data) as financial_data:\n",
    "    reader = csv.reader(financial_data)\n",
    "    header = next(reader)\n",
    "    first_row = next(reader)\n",
    "    total_months = total_months + 1\n",
    "    total_net = total_net + int(first_row[1])\n",
    "    prev_net = int(first_row[1])\n",
    "    \n",
    "    for row in reader:\n",
    "        total_months = total_months + 1\n",
    "        total_net = total_net + int(row[1])\n",
    "        net_change = int(row[1]) - prev_net\n",
    "        prev_net = int(row[1])\n",
    "        net_change_list = net_change_list + [net_change]\n",
    "        month_of_change = month_of_change + [row[0]]"
   ]
  },
  {
   "cell_type": "code",
   "execution_count": 73,
   "metadata": {},
   "outputs": [],
   "source": [
    "if net_change > greatest_increase[1]:\n",
    "            greatest_increase[0] = row[0]\n",
    "            greatest_increase[1] = net_change"
   ]
  },
  {
   "cell_type": "code",
   "execution_count": 74,
   "metadata": {},
   "outputs": [],
   "source": [
    "if net_change < greatest_decrease[1]:\n",
    "            greatest_decrease[0] = row[0]\n",
    "            greatest_decrease[1] = net_change"
   ]
  },
  {
   "cell_type": "code",
   "execution_count": 75,
   "metadata": {},
   "outputs": [],
   "source": [
    "net_monthly_avg = round(sum(net_change_list) / len(net_change_list),2)"
   ]
  },
  {
   "cell_type": "code",
   "execution_count": 77,
   "metadata": {},
   "outputs": [],
   "source": [
    "with open(budget_data, \"w\") as txt_file:\n",
    "    txt_file.write(f\"Financial Analysis\\n\")\n",
    "    txt_file.write(f\"----------------------------\\n\")\n",
    "    txt_file.write(f\"Total Months: {total_months}\\n\")\n",
    "    txt_file.write(f\"Total: ${total_net}\\n\")\n",
    "    txt_file.write(f\"Average  Change: ${net_monthly_avg}\\n\")\n",
    "    txt_file.write(f\"Greatest Increase in Profits: {greatest_increase[0]} (${greatest_increase[1]})\\n\")\n",
    "    txt_file.write(f\"Greatest Decrease in Profits: {greatest_decrease[0]} (${greatest_decrease[1]})\\n\")"
   ]
  },
  {
   "cell_type": "code",
   "execution_count": null,
   "metadata": {},
   "outputs": [],
   "source": []
  }
 ],
 "metadata": {
  "kernelspec": {
   "display_name": "Python 3",
   "language": "python",
   "name": "python3"
  },
  "language_info": {
   "codemirror_mode": {
    "name": "ipython",
    "version": 3
   },
   "file_extension": ".py",
   "mimetype": "text/x-python",
   "name": "python",
   "nbconvert_exporter": "python",
   "pygments_lexer": "ipython3",
   "version": "3.7.4"
  }
 },
 "nbformat": 4,
 "nbformat_minor": 4
}
